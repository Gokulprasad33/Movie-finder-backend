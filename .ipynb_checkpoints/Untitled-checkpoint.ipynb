{
 "cells": [
  {
   "cell_type": "code",
   "execution_count": 1,
   "id": "aea4c795-a4b2-4d12-b6a9-75f643b7206e",
   "metadata": {},
   "outputs": [],
   "source": [
    "import pandas as pd"
   ]
  },
  {
   "cell_type": "code",
   "execution_count": 2,
   "id": "bf7e3a56-33b4-4845-b46a-281aea1d63bb",
   "metadata": {},
   "outputs": [],
   "source": [
    "df=pd.read_csv('Recommended_movies.csv')"
   ]
  },
  {
   "cell_type": "code",
   "execution_count": 3,
   "id": "63ed7dca-0d73-45ca-bde6-73e2bf2480fa",
   "metadata": {},
   "outputs": [
    {
     "ename": "SyntaxError",
     "evalue": "closing parenthesis ')' does not match opening parenthesis '[' (1362856342.py, line 1)",
     "output_type": "error",
     "traceback": [
      "  \u001b[36mCell\u001b[39m\u001b[36m \u001b[39m\u001b[32mIn[3]\u001b[39m\u001b[32m, line 1\u001b[39m\n\u001b[31m    \u001b[39m\u001b[31mdf['original_language')= df['original_language'].replace({\u001b[39m\n                          ^\n\u001b[31mSyntaxError\u001b[39m\u001b[31m:\u001b[39m closing parenthesis ')' does not match opening parenthesis '['\n"
     ]
    }
   ],
   "source": [
    "df['original_language')= df['original_language'].replace({\n",
    "    'cn': 'zh',\n",
    "    'sh': 'sr',\n",
    "})\n"
   ]
  },
  {
   "cell_type": "code",
   "execution_count": 4,
   "id": "16d9c6ac-ec7c-470b-85e3-bbd04ca86be8",
   "metadata": {},
   "outputs": [],
   "source": [
    "df['original_language']= df['original_language'].replace({\n",
    "    'cn': 'zh',\n",
    "    'sh': 'sr',\n",
    "})\n"
   ]
  },
  {
   "cell_type": "code",
   "execution_count": null,
   "id": "6c5f9885-75e7-45ad-b3dc-df4ca7b2c9e3",
   "metadata": {},
   "outputs": [],
   "source": [
    "df.to_csv('Recommended_movies.csv',index=f"
   ]
  }
 ],
 "metadata": {
  "kernelspec": {
   "display_name": "Python 3 (ipykernel)",
   "language": "python",
   "name": "python3"
  },
  "language_info": {
   "codemirror_mode": {
    "name": "ipython",
    "version": 3
   },
   "file_extension": ".py",
   "mimetype": "text/x-python",
   "name": "python",
   "nbconvert_exporter": "python",
   "pygments_lexer": "ipython3",
   "version": "3.13.3"
  }
 },
 "nbformat": 4,
 "nbformat_minor": 5
}
